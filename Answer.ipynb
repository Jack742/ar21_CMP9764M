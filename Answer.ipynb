{
  "nbformat": 4,
  "nbformat_minor": 0,
  "metadata": {
    "colab": {
      "name": "Answer.ipynb",
      "provenance": [],
      "collapsed_sections": [
        "sFyDBjY6lRYp",
        "K3ah5kTolaVd",
        "izI0dpsJlg0v",
        "_ais4dt5lmLv",
        "sEL3LMbpl1cK"
      ]
    },
    "kernelspec": {
      "name": "python3",
      "display_name": "Python 3"
    }
  },
  "cells": [
    {
      "cell_type": "markdown",
      "metadata": {
        "id": "e3sy66qbhhW4"
      },
      "source": [
        "# **Workshop 2D Robot Kinematic and Dynamic**"
      ]
    },
    {
      "cell_type": "code",
      "metadata": {
        "id": "nG4itzhPhzz6"
      },
      "source": [
        "import math\r\n",
        "\r\n",
        "from numpy.matlib import matrix,rand,zeros,ones,empty,eye\r\n",
        "import numpy.matlib as M\r\n",
        "\r\n",
        "import numpy as np\r\n",
        "import numpy.matlib as ml\r\n",
        "from numpy import linalg as LA\r\n",
        "import matplotlib.pyplot as plt\r\n",
        "import numpy.random as rnd\r\n",
        "from matplotlib.patches import Ellipse, Circle"
      ],
      "execution_count": 5,
      "outputs": []
    },
    {
      "cell_type": "markdown",
      "metadata": {
        "id": "74LN74ELho07"
      },
      "source": [
        "## **Scara Robot Kinematic**"
      ]
    },
    {
      "cell_type": "markdown",
      "metadata": {
        "id": "sFyDBjY6lRYp"
      },
      "source": [
        "### Ex1"
      ]
    },
    {
      "cell_type": "markdown",
      "metadata": {
        "id": "c6ZyQ1Mih7us"
      },
      "source": [
        "EX1: write function for the inverse and forward kinematic (verify with S=[-70,-100] and length_arms=[100,70])"
      ]
    },
    {
      "cell_type": "code",
      "metadata": {
        "colab": {
          "base_uri": "https://localhost:8080/",
          "height": 0
        },
        "id": "m6n6KPxlh63S",
        "outputId": "ae6dd07b-c89d-42d2-eb4d-fe70ce3b0193"
      },
      "source": [
        "def ik1P(point,l): #1 point\r\n",
        "    l0 = l[0]\r\n",
        "    l1 = l[1]\r\n",
        "    x = point[0]\r\n",
        "    y = point[1]\r\n",
        "    \r\n",
        "    beta = np.arccos((-np.square(l0)-np.square(l1)+np.square(x)+np.square(y))/(2*l0*l1)) \r\n",
        "    alpha1 = np.arctan2(y,x)-np.arctan2(l1*np.sin(beta),l0+l1*np.cos(beta)) \r\n",
        "    alpha2 = np.arctan2(y,x)-np.arctan2(l1*np.sin(-beta),l0+l1*np.cos(-beta))\r\n",
        "    \r\n",
        "    sol1 = np.array([alpha1,beta])\r\n",
        "    sol2 = np.array([alpha2,-beta])\r\n",
        "    \r\n",
        "    return sol1,sol2\r\n",
        "\r\n",
        "def fk1P(q,l): # 1 point\r\n",
        "    rP1 = np.array([l[0]*np.cos(q[0]), l[0]*np.sin(q[0])])\r\n",
        "    rP2 = np.array([l[0]*np.cos(q[0])+l[1]*np.cos(q[0]+q[1]), l[0]*np.sin(q[0])+l[1]*np.sin(q[0]+q[1])])\r\n",
        "    return rP1,rP2\r\n",
        "\r\n",
        "#DATA SCARA KINEMATIC:\r\n",
        "S = np.array([-70,-100])\r\n",
        "l = np.array([100,70]) #lenght arms\r\n",
        "\r\n",
        "q1,q2 = ik1P(S,l)\r\n",
        "\r\n",
        "rP11,rP21 = fk1P(q1,l)\r\n",
        "rP12,rP22 = fk1P(q2,l)\r\n",
        "\r\n",
        "c1 = Circle(xy=[0,0], radius=l[1]-l[0],color='b', fill=False)\r\n",
        "c2 = Circle(xy=[0,0], radius=l[1]+l[0],color='b',fill=False)\r\n",
        "\r\n",
        "fig = plt.figure(1,figsize=(8,8))\r\n",
        "ax = fig.add_subplot(111, aspect='equal')\r\n",
        "ax.add_artist(c1)\r\n",
        "ax.add_artist(c2)\r\n",
        "\r\n",
        "ax.plot([0,rP11[0],rP21[0]],[0,rP11[1],rP21[1]])\r\n",
        "ax.plot([0,rP12[0],rP22[0]],[0,rP12[1],rP22[1]])\r\n",
        "ax.plot([rP11[0],rP21[0],rP12[0]],[rP11[1],rP21[1],rP12[1]],'o')\r\n",
        "ax.plot([0],[0],'o')\r\n",
        "ax.plot(S[0],S[1],'o')\r\n",
        "lim = l[0]+l[1]+10\r\n",
        "ax.set_xlim(-lim, lim)\r\n",
        "ax.set_ylim(-lim, lim)\r\n",
        "\r\n",
        "\r\n",
        "plt.show()\r\n",
        "print(q1)\r\n",
        "print(q2)"
      ],
      "execution_count": 6,
      "outputs": [
        {
          "output_type": "display_data",
          "data": {
            "image/png": "[encoded data removed]",
            "text/plain": [
              "<Figure size 576x576 with 1 Axes>"
            ]
          },
          "metadata": {
            "tags": [],
            "needs_background": "light"
          }
        },
        {
          "output_type": "stream",
          "text": [
            "[-2.79224826  1.57079633]\n",
            "[-1.57079633 -1.57079633]\n"
          ],
          "name": "stdout"
        }
      ]
    },
    {
      "cell_type": "markdown",
      "metadata": {
        "id": "K3ah5kTolaVd"
      },
      "source": [
        "### Ex2"
      ]
    },
    {
      "cell_type": "markdown",
      "metadata": {
        "id": "jPElVuaLifKJ"
      },
      "source": [
        "EX2: Write a function for the calculation of the jacobian (verify with S=[-70,-100] and length_arms=[100,70])"
      ]
    },
    {
      "cell_type": "code",
      "metadata": {
        "colab": {
          "base_uri": "https://localhost:8080/"
        },
        "id": "gx30YCKph251",
        "outputId": "2500e3ec-c1a3-4d65-d9b2-200d9349d9a9"
      },
      "source": [
        "def jacobian_x(x, l):\r\n",
        "    sol1,sol2 = ik1P(x,l)\r\n",
        "    jacobian_matrix = jacobian_q(sol1,l)\r\n",
        "    return jacobian_matrix\r\n",
        "\r\n",
        "def jacobian_q(q, l):\r\n",
        "  q1 = q[0]\r\n",
        "  q2 = q[1]\r\n",
        "  l1 = l[0]\r\n",
        "  l2 = l[1]\r\n",
        "\r\n",
        "  jacobian = np.array([[-l1*np.sin(q1)-l2*np.sin(q1+q2),-l2*np.sin(q1+q2)],\r\n",
        "                       [ l1*np.cos(q1)+l2*np.cos(q1+q2), l2*np.cos(q1+q2)]])\r\n",
        "  return jacobian\r\n",
        "\r\n",
        "#DATA SCARA KINEMATIC:\r\n",
        "S = np.array([-70,-100])\r\n",
        "l = np.array([100,70]) #lenght arms\r\n",
        "\r\n",
        "q1,q2 = ik1P(S,l)\r\n",
        "jacobian1 = jacobian_q(q1,l)\r\n",
        "jacobian2 = jacobian_x(S,l)\r\n",
        "\r\n",
        "print(jacobian1)\r\n",
        "print(jacobian2)"
      ],
      "execution_count": 7,
      "outputs": [
        {
          "output_type": "stream",
          "text": [
            "[[100.          65.77181208]\n",
            " [-70.          23.95973154]]\n",
            "[[100.          65.77181208]\n",
            " [-70.          23.95973154]]\n"
          ],
          "name": "stdout"
        }
      ]
    },
    {
      "cell_type": "markdown",
      "metadata": {
        "id": "_ais4dt5lmLv"
      },
      "source": [
        "### Ex3"
      ]
    },
    {
      "cell_type": "markdown",
      "metadata": {
        "id": "pq7Jo_jXj-1C"
      },
      "source": [
        "EX.3 Considering the following 5 trajectories from point1 to point2, calculate the manipulability of each trajectories and chose the best one."
      ]
    },
    {
      "cell_type": "code",
      "metadata": {
        "colab": {
          "base_uri": "https://localhost:8080/",
          "height": 337
        },
        "id": "4CIDJjUfkIz7",
        "outputId": "7f995d18-8c98-45d5-bebd-0cfad658c3bf"
      },
      "source": [
        "def ik2P(x,l): # n point\r\n",
        "    l0 = ml.repmat(l[0],np.shape([x])[1],1)\r\n",
        "    l1 = ml.repmat(l[1],np.shape([x])[1],1)\r\n",
        "\r\n",
        "    \r\n",
        "    beta = np.arccos((-np.square(l0)-np.square(l1)+np.square(x[:,0:1])+np.square(x[:,1:2]))/(2*l0*l1))\r\n",
        "    alpha1  = np.arctan2(x[:,1:2],x[:,0:1])-np.arctan2(l1*np.sin(beta),l0+l1*np.cos(beta))\r\n",
        "    alpha2  = np.arctan2(x[:,1:2],x[:,0:1])-np.arctan2(l1*np.sin(-beta),l0+l1*np.cos(-beta))\r\n",
        "   \r\n",
        "    sol1 = np.concatenate((np.transpose(alpha1), np.transpose(beta)), axis=0)\r\n",
        "    sol2 = np.concatenate((np.transpose(alpha2),np.transpose(-beta)), axis=0)\r\n",
        "    return sol1,sol2\r\n",
        "\r\n",
        "def fk2P(q,l): # n point\r\n",
        "    rP1 = np.array([l[0]*np.cos(q[0,:]), l[0]*np.sin(q[0,:])])\r\n",
        "    rP2 = np.array([l[0]*np.cos(q[0,:])+l[1]*np.cos(q[0,:]+q[1,:]), l[0]*np.sin(q[0,:])+l[1]*np.sin(q[0,:]+q[1,:])])\r\n",
        "    return rP1,rP2\r\n",
        "    \r\n",
        "def utility_fun(q,l):\r\n",
        "  manipulability = 0 \r\n",
        "  for i in q:\r\n",
        "    jacobian = jacobian_q(i,l)\r\n",
        "    manipulability += np.sqrt(np.linalg.det(np.dot(jacobian,jacobian.T)))\r\n",
        "  return manipulability\r\n",
        "\r\n",
        "\r\n",
        "def path1(A,B):\r\n",
        "  x = np.linspace(A[0],B[0],10)\r\n",
        "  m = (B[1]-A[1])/(B[0]-A[0])\r\n",
        "  y = B[1]+m*(x-B[0])\r\n",
        "  return x,y\r\n",
        "\r\n",
        "def path2(A,B,x_center):\r\n",
        "  m = -1/((A[1]-B[1])/(A[0]-B[0]))\r\n",
        "  C = np.array([(A[0]+B[0])/2,(A[1]+B[1])/2])\r\n",
        "  q = C[1]-m*C[0]\r\n",
        "  y_center = m*x_center+q \r\n",
        "  r = np.sqrt(np.square(A[0]-x_center)+np.square(A[1]-y_center))\r\n",
        "  base = np.sqrt(np.square(A[0]-B[0])+np.square(A[1]-B[1]))/2\r\n",
        "\r\n",
        "  A0 = [A[0]-x_center,A[1]-y_center]\r\n",
        "  B0 = [B[0]-x_center,B[1]-y_center]\r\n",
        "\r\n",
        "\r\n",
        "  if A0[1]<=0:\r\n",
        "    acosA = -np.arccos(A0[0]/r)\r\n",
        "  if A0[1]>0:\r\n",
        "    acosA = np.arccos(A0[0]/r)\r\n",
        "\r\n",
        "  if B0[1]<=0:\r\n",
        "    acosB = -np.arccos(B0[0]/r)\r\n",
        "  if B0[1]>0:\r\n",
        "    acosB = np.arccos(B0[0]/r)\r\n",
        "  \r\n",
        "  angle_i = min(acosA,acosB)\r\n",
        "  angle_f = max(acosA,acosB)\r\n",
        "  \r\n",
        "  x_obs = x_center + r*np.cos(np.linspace(angle_i, angle_f, num=10))\r\n",
        "  y_obs = y_center + r*np.sin(np.linspace(angle_i, angle_f, num=10))\r\n",
        "  return x_obs, y_obs \r\n",
        "\r\n",
        "#DATA\r\n",
        "point1 = np.array([70,0])\r\n",
        "point2 = np.array([-50,90])\r\n",
        "\r\n",
        "#points trajectories:\r\n",
        "x1,y1 = path1(point1,point2)\r\n",
        "x2,y2= path2(point1,point2,0)\r\n",
        "x3,y3= path2(point1,point2,70)\r\n",
        "x4,y4= path2(point1,point2,-30)\r\n",
        "x5,y5= path2(point1,point2,80)\r\n",
        "\r\n",
        "l = np.array([70,70])\r\n",
        "\r\n",
        "#inverse kinematic\r\n",
        "q1, q = ik2P(np.transpose(np.vstack((x1,y1))),l)\r\n",
        "q2, q = ik2P(np.transpose(np.vstack((x2,y2))),l)\r\n",
        "q3, q = ik2P(np.transpose(np.vstack((x3,y3))),l)\r\n",
        "q4, q = ik2P(np.transpose(np.vstack((x4,y4))),l)\r\n",
        "q5, q = ik2P(np.transpose(np.vstack((x5,y5))),l)\r\n",
        "\r\n",
        "#robot point\r\n",
        "rP11, rP12 = fk2P(q1,l)\r\n",
        "rP21, rP22 = fk2P(q2,l)\r\n",
        "rP31, rP32 = fk2P(q3,l)\r\n",
        "rP41, rP42 = fk2P(q4,l)\r\n",
        "rP51, rP52 = fk2P(q5,l)\r\n",
        "\r\n",
        "#Manipolability\r\n",
        "man1 = utility_fun(q1,l)\r\n",
        "man2 = utility_fun(q2,l)\r\n",
        "man3 = utility_fun(q3,l)\r\n",
        "man4 = utility_fun(q4,l)\r\n",
        "man5 = utility_fun(q5,l)\r\n",
        "\r\n",
        "x = [man1, man2, man3,man4,man5]\r\n",
        "j = np.argsort(x)[-1]+1\r\n",
        "print('The trajectory with higher manipolability is: %d' %(j))\r\n",
        "\r\n",
        "\r\n",
        "fig = plt.figure(figsize=(15,5))\r\n",
        "ax = fig.add_subplot(111, aspect='equal')\r\n",
        "ax.plot(x1,y1,'--k')\r\n",
        "ax.plot(x2,y2,'--k')\r\n",
        "ax.plot(x3,y3,'--k')\r\n",
        "ax.plot(x4,y4,'--k')\r\n",
        "ax.plot(x5,y5,'--k')\r\n",
        "for i in range(10):\r\n",
        "  ax.plot([0,(eval('rP%d1'% (j)))[0,i],(eval('rP%d2'% (j)))[0,i]],[0,(eval('rP%d1'% (j)))[1,i],(eval('rP%d2'% (j)))[1,i]],'g')\r\n",
        "ax.plot([0,point1[0],point2[0]],[0,point1[1],point2[1]],'o')\r\n",
        "plt.show()\r\n"
      ],
      "execution_count": 9,
      "outputs": [
        {
          "output_type": "stream",
          "text": [
            "The trajectory with higher manipolability is: 3\n"
          ],
          "name": "stdout"
        },
        {
          "output_type": "display_data",
          "data": {
            "image/png": "[encoded data removed]",
            "text/plain": [
              "<Figure size 1080x360 with 1 Axes>"
            ]
          },
          "metadata": {
            "tags": [],
            "needs_background": "light"
          }
        }
      ]
    },
    {
      "cell_type": "markdown",
      "metadata": {
        "id": "izI0dpsJlg0v"
      },
      "source": [
        "### Ex4"
      ]
    },
    {
      "cell_type": "markdown",
      "metadata": {
        "id": "ID7cvvp6jGj9"
      },
      "source": [
        "EX4: Plot the Velocity Ellipses considering as trajectory the line y=0 (length_arms=[70,70])"
      ]
    },
    {
      "cell_type": "code",
      "metadata": {
        "colab": {
          "base_uri": "https://localhost:8080/",
          "height": 601
        },
        "id": "QIw6_DbnjF2M",
        "outputId": "2794d0b2-828f-4910-dac4-71e202c8b605"
      },
      "source": [
        "def ik2P(x,l): # n point\r\n",
        "    l0 = ml.repmat(l[0],np.shape([x])[1],1)\r\n",
        "    l1 = ml.repmat(l[1],np.shape([x])[1],1)\r\n",
        "\r\n",
        "    \r\n",
        "    beta = np.arccos((-np.square(l0)-np.square(l1)+np.square(x[:,0:1])+np.square(x[:,1:2]))/(2*l0*l1))\r\n",
        "    alpha1  = np.arctan2(x[:,1:2],x[:,0:1])-np.arctan2(l1*np.sin(beta),l0+l1*np.cos(beta))\r\n",
        "    alpha2  = np.arctan2(x[:,1:2],x[:,0:1])-np.arctan2(l1*np.sin(-beta),l0+l1*np.cos(-beta))\r\n",
        "   \r\n",
        "    sol1 = np.concatenate((np.transpose(alpha1), np.transpose(beta)), axis=0)\r\n",
        "    sol2 = np.concatenate((np.transpose(alpha2),np.transpose(-beta)), axis=0)\r\n",
        "    return sol1,sol2\r\n",
        "\r\n",
        "def fk2P(q,l): # n point\r\n",
        "    rP1 = np.array([l[0]*np.cos(q[0,:]), l[0]*np.sin(q[0,:])])\r\n",
        "    rP2 = np.array([l[0]*np.cos(q[0,:])+l[1]*np.cos(q[0,:]+q[1,:]), l[0]*np.sin(q[0,:])+l[1]*np.sin(q[0,:]+q[1,:])])\r\n",
        "    return rP1,rP2\r\n",
        "    \r\n",
        "def plot_ellipses(q,l):\r\n",
        "  jacobian = jacobian_q(q,l)\r\n",
        "  w, v = LA.eig(np.dot(jacobian,jacobian.T))\r\n",
        "  print(v)\r\n",
        "  print(w)\r\n",
        "\r\n",
        "  rot_angle = np.arccos( np.dot( [1,0], v[:,1] ) )*180/np.pi\r\n",
        "  print('angle',rot_angle)\r\n",
        "\r\n",
        "  EE_pose = [l[0]*np.cos(q[0])+l[1]*np.cos(q[0]+q[1]),l[0]*np.sin(q[0])+l[1]*np.sin(q[0]+q[1])]\r\n",
        "  e = Ellipse(xy=EE_pose, width=np.sqrt(w[1]), height=np.sqrt(w[0]), angle=-rot_angle)\r\n",
        "  e.set_clip_box(ax.bbox)\r\n",
        "  e.set_alpha(0.3)\r\n",
        "  e.set_facecolor('g')\r\n",
        "  return e\r\n",
        "\r\n",
        "def plot_scara(rP1,rP2):\r\n",
        "  ax.plot([0,rP1[0],rP2[0]],[0,rP1[1],rP2[1]])\r\n",
        "  ax.plot([rP1[0],rP2[0]],[rP1[1],rP2[1]],'o')\r\n",
        "  ax.plot([0],[0],'o')\r\n",
        "  lim = l[0]+l[1]+10\r\n",
        "  ax.set_xlim(-lim, lim)\r\n",
        "  ax.set_ylim(-lim, lim)\r\n",
        "  return ax\r\n",
        "\r\n",
        "def plot_workspace(l):\r\n",
        "  c1 = Circle(xy=[0,0], radius=l[1]-l[0],color='b', fill=False)\r\n",
        "  c2 = Circle(xy=[0,0], radius=l[1]+l[0],color='b',fill=False)\r\n",
        "  ax.add_artist(c1)\r\n",
        "  ax.add_artist(c2)\r\n",
        "\r\n",
        "  return ax\r\n",
        "\r\n",
        "def line(x):\r\n",
        "  y = np.zeros(np.shape(x))\r\n",
        "  return y\r\n",
        "\r\n",
        "#Data\r\n",
        "l = np.array([70,70])\r\n",
        "points = np.transpose(np.array([np.linspace(-130,130,5),line(np.linspace(-130,130,5))]))\r\n",
        "\r\n",
        "x_line = np.linspace(-150,150,1000)\r\n",
        "y_line = line(x_line)\r\n",
        "\r\n",
        "q1,q2 = ik2P(points,l)\r\n",
        "rP1,rP2 = fk2P(q1,l)\r\n",
        "\r\n",
        "fig = plt.figure(2)\r\n",
        "ax = fig.add_subplot(111, aspect='equal')\r\n",
        "for i in range(np.shape(q1)[1]):\r\n",
        "  e = plot_ellipses(q1[:,i],l)\r\n",
        "  ax.add_artist(e)\r\n",
        "  plot_scara(rP1[:,i],rP2[:,i])\r\n",
        "plot_workspace(l)\r\n",
        "ax.plot(x_line,y_line, '--','r')\r\n",
        "plt.show()"
      ],
      "execution_count": 10,
      "outputs": [
        {
          "output_type": "stream",
          "text": [
            "[[-0.99665292  0.08174931]\n",
            " [-0.08174931 -0.99665292]]\n",
            "[  536.48225746 21263.51774254]\n",
            "angle 85.31087664956678\n",
            "[[-0.81730531  0.57620486]\n",
            " [-0.57620486 -0.81730531]]\n",
            "[2423.20981398 6701.79018602]\n",
            "angle 54.815947194326775\n",
            "[[ 1.000000e+00  6.123234e-17]\n",
            " [-6.123234e-17  1.000000e+00]]\n",
            "[4.90000000e+03 7.34882294e-29]\n",
            "angle 90.0\n",
            "[[-0.81730531  0.57620486]\n",
            " [-0.57620486 -0.81730531]]\n",
            "[2423.20981398 6701.79018602]\n",
            "angle 54.815947194326775\n",
            "[[-0.99665292  0.08174931]\n",
            " [-0.08174931 -0.99665292]]\n",
            "[  536.48225746 21263.51774254]\n",
            "angle 85.3108766495668\n"
          ],
          "name": "stdout"
        },
        {
          "output_type": "display_data",
          "data": {
            "image/png": "[encoded data removed]",
            "text/plain": [
              "<Figure size 432x288 with 1 Axes>"
            ]
          },
          "metadata": {
            "tags": [],
            "needs_background": "light"
          }
        }
      ]
    },
    {
      "cell_type": "markdown",
      "metadata": {
        "id": "Av_YJIFXlJjQ"
      },
      "source": [
        "## **Scara Robot Dynamic**"
      ]
    },
    {
      "cell_type": "markdown",
      "metadata": {
        "id": "sEL3LMbpl1cK"
      },
      "source": [
        "### Ex1"
      ]
    },
    {
      "cell_type": "markdown",
      "metadata": {
        "id": "-n3g1AAXl4yx"
      },
      "source": [
        "EX1. Solve the inverse dynamic problem to obtain the torques during the movement of the gripper along a line from 𝑆𝑖=[0.2,0.5] to 𝑆𝑓=[−0.5,0.2].\r\n",
        "Consider a cycloidal motion curve that takes 5s to complete the task under the following external forces, 𝐹𝑠𝑒=[1;1;0;0;0;0;0;0]."
      ]
    },
    {
      "cell_type": "markdown",
      "metadata": {
        "id": "XnGu1rc7p87v"
      },
      "source": [
        "![es1_dina.JPG](data:image/jpeg;base64,/9j/4AAQSkZJRgABAQEAeAB4AAD/4RDuRXhpZgAATU0AKgAAAAgABAE7AAIAAAAMAAAISodpAAQAAAABAAAIVpydAAEAAAAYAAAQzuocAAcAAAgMAAAAPgAAAAAc6gAAAAgAAAAAAAAAAAAAAAAAAAAAAAAAAAAAAAAAAAAAAAAAAAAAAAAAAAAAAAAAAAAAAAAAAAAAAAAAAAAAAAAAAAAAAAAAAAAAAAAAAAAAAAAAAAAAAAAAAAAAAAAAAAAAAAAAAAAAAAAAAAAAAAAAAAAAAAAAAAAAAAAAAAAAAAAAAAAAAAAAAAAAAAAAAAAAAAAAAAAAAAAAAAAAAAAAAAAAAAAAAAAAAAAAAAAAAAAAAAAAAAAAAAAAAAAAAAAAAAAAAAAAAAAAAAAAAAAAAAAAAAAAAAAAAAAAAAAAAAAAAAAAAAAAAAAAAAAAAAAAAAAAAAAAAAAAAAAAAAAAAAAAAAAAAAAAAAAAAAAAAAAAAAAAAAAAAAAAAAAAAAAAAAAAAAAAAAAAAAAAAAAAAAAAAAAAAAAAAAAAAAAAAAAAAAAAAAAAAAAAAAAAAAAAAAAAAAAAAAAAAAAAAAAAAAAAAAAAAAAAAAAAAAAAAAAAAAAAAAAAAAAAAAAAAAAAAAAAAAAAAAAAAAAAAAAAAAAAAAAAAAAAAAAAAAAAAAAAAAAAAAAAAAAAAAAAAAAAAAAAAAAAAAAAAAAAAAAAAAAAAAAAAAAAAAAAAAAAAAAAAAAAAAAAAAAAAAAAAAAAAAAAAAAAAAAAAAAAAAAAAAAAAAAAAAAAAAAAAAAAAAAAAAAAAAAAAAAAAAAAAAAAAAAAAAAAAAAAAAAAAAAAAAAAAAAAAAAAAAAAAAAAAAAAAAAAAAAAAAAAAAAAAAAAAAAAAAAAAAAAAAAAAAAAAAAAAAAAAAAAAAAAAAAAAAAAAAAAAAAAAAAAAAAAAAAAAAAAAAAAAAAAAAAAAAAAAAAAAAAAAAAAAAAAAAAAAAAAAAAAAAAAAAAAAAAAAAAAAAAAAAAAAAAAAAAAAAAAAAAAAAAAAAAAAAAAAAAAAAAAAAAAAAAAAAAAAAAAAAAAAAAAAAAAAAAAAAAAAAAAAAAAAAAAAAAAAAAAAAAAAAAAAAAAAAAAAAAAAAAAAAAAAAAAAAAAAAAAAAAAAAAAAAAAAAAAAAAAAAAAAAAAAAAAAAAAAAAAAAAAAAAAAAAAAAAAAAAAAAAAAAAAAAAAAAAAAAAAAAAAAAAAAAAAAAAAAAAAAAAAAAAAAAAAAAAAAAAAAAAAAAAAAAAAAAAAAAAAAAAAAAAAAAAAAAAAAAAAAAAAAAAAAAAAAAAAAAAAAAAAAAAAAAAAAAAAAAAAAAAAAAAAAAAAAAAAAAAAAAAAAAAAAAAAAAAAAAAAAAAAAAAAAAAAAAAAAAAAAAAAAAAAAAAAAAAAAAAAAAAAAAAAAAAAAAAAAAAAAAAAAAAAAAAAAAAAAAAAAAAAAAAAAAAAAAAAAAAAAAAAAAAAAAAAAAAAAAAAAAAAAAAAAAAAAAAAAAAAAAAAAAAAAAAAAAAAAAAAAAAAAAAAAAAAAAAAAAAAAAAAAAAAAAAAAAAAAAAAAAAAAAAAAAAAAAAAAAAAAAAAAAAAAAAAAAAAAAAAAAAAAAAAAAAAAAAAAAAAAAAAAAAAAAAAAAAAAAAAAAAAAAAAAAAAAAAAAAAAAAAAAAAAAAAAAAAAAAAAAAAAAAAAAAAAAAAAAAAAAAAAAAAAAAAAAAAAAAAAAAAAAAAAAAAAAAAAAAAAAAAAAAAAAAAAAAAAAAAAAAAAAAAAAAAAAAAAAAAAAAAAAAAAAAAAAAAAAAAAAAAAAAAAAAAAAAAAAAAAAAAAAAAAAAAAAAAAAAAAAAAAAAAAAAAAAAAAAAAAAAAAAAAAAAAAAAAAAAAAAAAAAAAAAAAAAAAAAAAAAAAAAAAAAAAAAAAAAAAAAAAAAAAAAAAAAAAAAAAAAAAAAAAAAAAAAAAAAAAAAAAAAAAAAAAAAAAAAAAAAAAAAAAAAAAAAAAAAAAAAAAAAAAAAAAAAAAAAAAAAAAAAAAAAAAAAAAAAAAAAAAAAAAAAAAAAAAAAAAAAAAAAAAAAAAAAAAAAAAAAAAAAAAAAAAAAAAAAAAAAAAAAAAAAAAAAAAAAAAAAAAAAAAAAAAAAAAAAAAAAAAAAAAAAAAAAAAAAAAAAAAAAAAAAAAAAAAAAAAAAAAAAAAAAAAAAAAAAAAAAAAAAAAAAAAAAAAAAAAAAAAAAAAAAAAAAAAAAAAAAAAAAAAAAAAAAAAAAAAAAAAAAAAAAAAAAAAAAAAAAAAAAAAAAAAAAAAAAAAAAAAAAAAAAAAAAAAAAAAAAAAAAAAAAAAAAAAAAAAAAAAAAAAAAAAAAAAAAAAAAAAAAAAAAAAAAAAAAAAAAAAAAAAAAAAAAAAAAAAAAAAAAAAAAAAAAAAAAAAAAAAAAAAAAAAAAAAAAAAAAAAAAAAAAAAAAAAAAAAAAAAAAAAAAAAAAAAAAAAAAAAAAAAAAAAAAAAAAAAAAAAAAAAAAAAAAAAAAAAAAAAAAAAAAAAAAAAAAAAAAAAAAAAAAAAAAAAAAAAAAAAAAAAAAAAAAAAAAAAAAAAAAAAAAAAAAAAAAAAAAAAAAAAAAAAAAAAAAAAAAAAAAAAAAAAAAAAAAAAAAAAAAAAAAAAAAAAAAAAAAAAAAAAAAAAAAAAAAAAAAAAAAAAAAAAAAAAAAAAAAAAAAAAAAAAAAAAAAAAAAAAAAAAAAAAAAAAAAAAAAAAAAAAAAAAAAAAAAAAAAAAAAAAAAAAAAAAAAAAAAAAAAAAAAAAAAAAAAAAAAAAAAAAAAAAAAAAAAAAAAAAAAG1hcnRhIGNyaXZlAAAFkAMAAgAAABQAABCkkAQAAgAAABQAABC4kpEAAgAAAAM4NQAAkpIAAgAAAAM4NQAA6hwABwAACAwAAAiYAAAAABzqAAAACAAAAAAAAAAAAAAAAAAAAAAAAAAAAAAAAAAAAAAAAAAAAAAAAAAAAAAAAAAAAAAAAAAAAAAAAAAAAAAAAAAAAAAAAAAAAAAAAAAAAAAAAAAAAAAAAAAAAAAAAAAAAAAAAAAAAAAAAAAAAAAAAAAAAAAAAAAAAAAAAAAAAAAAAAAAAAAAAAAAAAAAAAAAAAAAAAAAAAAAAAAAAAAAAAAAAAAAAAAAAAAAAAAAAAAAAAAAAAAAAAAAAAAAAAAAAAAAAAAAAAAAAAAAAAAAAAAAAAAAAAAAAAAAAAAAAAAAAAAAAAAAAAAAAAAAAAAAAAAAAAAAAAAAAAAAAAAAAAAAAAAAAAAAAAAAAAAAAAAAAAAAAAAAAAAAAAAAAAAAAAAAAAAAAAAAAAAAAAAAAAAAAAAAAAAAAAAAAAAAAAAAAAAAAAAAAAAAAAAAAAAAAAAAAAAAAAAAAAAAAAAAAAAAAAAAAAAAAAAAAAAAAAAAAAAAAAAAAAAAAAAAAAAAAAAAAAAAAAAAAAAAAAAAAAAAAAAAAAAAAAAAAAAAAAAAAAAAAAAAAAAAAAAAAAAAAAAAAAAAAAAAAAAAAAAAAAAAAAAAAAAAAAAAAAAAAAAAAAAAAAAAAAAAAAAAAAAAAAAAAAAAAAAAAAAAAAAAAAAAAAAAAAAAAAAAAAAAAAAAAAAAAAAAAAAAAAAAAAAAAAAAAAAAAAAAAAAAAAAAAAAAAAAAAAAAAAAAAAAAAAAAAAAAAAAAAAAAAAAAAAAAAAAAAAAAAAAAAAAAAAAAAAAAAAAAAAAAAAAAAAAAAAAAAAAAAAAAAAAAAAAAAAAAAAAAAAAAAAAAAAAAAAAAAAAAAAAAAAAAAAAAAAAAAAAAAAAAAAAAAAAAAAAAAAAAAAAAAAAAAAAAAAAAAAAAAAAAAAAAAAAAAAAAAAAAAAAAAAAAAAAAAAAAAAAAAAAAAAAAAAAAAAAAAAAAAAAAAAAAAAAAAAAAAAAAAAAAAAAAAAAAAAAAAAAAAAAAAAAAAAAAAAAAAAAAAAAAAAAAAAAAAAAAAAAAAAAAAAAAAAAAAAAAAAAAAAAAAAAAAAAAAAAAAAAAAAAAAAAAAAAAAAAAAAAAAAAAAAAAAAAAAAAAAAAAAAAAAAAAAAAAAAAAAAAAAAAAAAAAAAAAAAAAAAAAAAAAAAAAAAAAAAAAAAAAAAAAAAAAAAAAAAAAAAAAAAAAAAAAAAAAAAAAAAAAAAAAAAAAAAAAAAAAAAAAAAAAAAAAAAAAAAAAAAAAAAAAAAAAAAAAAAAAAAAAAAAAAAAAAAAAAAAAAAAAAAAAAAAAAAAAAAAAAAAAAAAAAAAAAAAAAAAAAAAAAAAAAAAAAAAAAAAAAAAAAAAAAAAAAAAAAAAAAAAAAAAAAAAAAAAAAAAAAAAAAAAAAAAAAAAAAAAAAAAAAAAAAAAAAAAAAAAAAAAAAAAAAAAAAAAAAAAAAAAAAAAAAAAAAAAAAAAAAAAAAAAAAAAAAAAAAAAAAAAAAAAAAAAAAAAAAAAAAAAAAAAAAAAAAAAAAAAAAAAAAAAAAAAAAAAAAAAAAAAAAAAAAAAAAAAAAAAAAAAAAAAAAAAAAAAAAAAAAAAAAAAAAAAAAAAAAAAAAAAAAAAAAAAAAAAAAAAAAAAAAAAAAAAAAAAAAAAAAAAAAAAAAAAAAAAAAAAAAAAAAAAAAAAAAAAAAAAAAAAAAAAAAAAAAAAAAAAAAAAAAAAAAAAAAAAAAAAAAAAAAAAAAAAAAAAAAAAAAAAAAAAAAAAAAAAAAAAAAAAAAAAAAAAAAAAAAAAAAAAAAAAAAAAAAAAAAAAAAAAAAAAAAAAAAAAAAAAAAAAAAAAAAAAAAAAAAAAAAAAAAAAAAAAAAAAAAAAAAAAAAAAAAAAAAAAAAAAAAAAAAAAAAAAAAAAAAAAAAAAAAAAAAAAAAAAAAAAAAAAAAAAAAAAAAAAAAAAAAAAAAAAAAAAAAAAAAAAAAAAAAAAAAAAAAAAAAAAAAAAAAAAAAAAAAAAAAAAAAAAAAAAAAAAAAAAAAAAAAAAAAAAAAAAAAAAAAAAAAAAAAAAAAAAAAAAAAAAAAAAAAAAAAAAAAAAAAAAAAAAAAAAAAAAAAAAAAAAAAAAAAAAAAAAAAAAAAAAAAAAAAAAAAAAAAAAAAAAAAAAAAAAAAAAAAAAAAAAAAAAAAAAAAAAAAAAAAAAAAAAAAAAAAAAAAAAAAAAAAAAAAAAAAAAAAAAAAAAAAAAAAAAAAAAAAAAAAAAAAAAAAAAAAAAAAAAAAAAAAAAAAAAAAAAAAAAAAAAAAAAAAAAAAAAAAAAAAAAAAAAAAAAAAAAAAAAAAAAAAAAAAAAAAAAAAAAAAAAAAAAAAAAAAAAAAAAAAAAAAAAAAAAAAAAAAAAAAAAAAAAAAAAAAAAAAAAAAAAAAAAAAAAAAAAAAAAAAAAAAAAAAAAAAAAAAAAAAAAAAAAAAAAAAAAAAAAAAAAAAAAAAAAAAAAAAAAAAAAAAAAAAAAAAAAAAAAAAAAAAAAAAAAAAAAAAAAAAAAAAAAAAAAAAAAAAAAAAAAAAAAAAAAAAAAAAAAAAAAAAAAAAAAAAAAAAAAAAAAAAAAAAAAAAAAAAAAAAAAAAAAAAAAAAAAAAAAAAAAAAAAAAAAAAAAAAAAAAAAAAAAAAAAAAAAAAAAAAAAAAAAAAAAAAAAAAAAAAAAAAAAAAAAAAAAAAAAAAAAAAAAAAAAAAAAAMjAyMTowMjoxMiAyMzowNzoxNgAyMDIxOjAyOjEyIDIzOjA3OjE2AAAAbQBhAHIAdABhACAAYwByAGkAdgBlAAAA/+ELHmh0dHA6Ly9ucy5hZG9iZS5jb20veGFwLzEuMC8APD94cGFja2V0IGJlZ2luPSfvu78nIGlkPSdXNU0wTXBDZWhpSHpyZVN6TlRjemtjOWQnPz4NCjx4OnhtcG1ldGEgeG1sbnM6eD0iYWRvYmU6bnM6bWV0YS8iPjxyZGY6UkRGIHhtbG5zOnJkZj0iaHR0cDovL3d3dy53My5vcmcvMTk5OS8wMi8yMi1yZGYtc3ludGF4LW5zIyI+PHJkZjpEZXNjcmlwdGlvbiByZGY6YWJvdXQ9InV1aWQ6ZmFmNWJkZDUtYmEzZC0xMWRhLWFkMzEtZDMzZDc1MTgyZjFiIiB4bWxuczpkYz0iaHR0cDovL3B1cmwub3JnL2RjL2VsZW1lbnRzLzEuMS8iLz48cmRmOkRlc2NyaXB0aW9uIHJkZjphYm91dD0idXVpZDpmYWY1YmRkNS1iYTNkLTExZGEtYWQzMS1kMzNkNzUxODJmMWIiIHhtbG5zOnhtcD0iaHR0cDovL25zLmFkb2JlLmNvbS94YXAvMS4wLyI+PHhtcDpDcmVhdGVEYXRlPjIwMjEtMDItMTJUMjM6MDc6MTYuODQ2PC94bXA6Q3JlYXRlRGF0ZT48L3JkZjpEZXNjcmlwdGlvbj48cmRmOkRlc2NyaXB0aW9uIHJkZjphYm91dD0idXVpZDpmYWY1YmRkNS1iYTNkLTExZGEtYWQzMS1kMzNkNzUxODJmMWIiIHhtbG5zOmRjPSJodHRwOi8vcHVybC5vcmcvZGMvZWxlbWVudHMvMS4xLyI+PGRjOmNyZWF0b3I+PHJkZjpTZXEgeG1sbnM6cmRmPSJodHRwOi8vd3d3LnczLm9yZy8xOTk5LzAyLzIyLXJkZi1zeW50YXgtbnMjIj48cmRmOmxpPm1hcnRhIGNyaXZlPC9yZGY6bGk+PC9yZGY6U2VxPg0KCQkJPC9kYzpjcmVhdG9yPjwvcmRmOkRlc2NyaXB0aW9uPjwvcmRmOlJERj48L3g6eG1wbWV0YT4NCiAgICAgICAgICAgICAgICAgICAgICAgICAgICAgICAgICAgICAgICAgICAgICAgICAgICAgICAgICAgICAgICAgICAgICAgICAgICAgICAgICAgICAgICAgICAgICAgICAgICAKICAgICAgICAgICAgICAgICAgICAgICAgICAgICAgICAgICAgICAgICAgICAgICAgICAgICAgICAgICAgICAgICAgICAgICAgICAgICAgICAgICAgICAgICAgICAgICAgICAgIAogICAgICAgICAgICAgICAgICAgICAgICAgICAgICAgICAgICAgICAgICAgICAgICAgICAgICAgICAgICAgICAgICAgICAgICAgICAgICAgICAgICAgICAgICAgICAgICAgICAgCiAgICAgICAgICAgICAgICAgICAgICAgICAgICAgICAgICAgICAgICAgICAgICAgICAgICAgICAgICAgICAgICAgICAgICAgICAgICAgICAgICAgICAgICAgICAgICAgICAgICAKICAgICAgICAgICAgICAgICAgICAgICAgICAgICAgICAgICAgICAgICAgICAgICAgICAgICAgICAgICAgICAgICAgICAgICAgICAgICAgICAgICAgICAgICAgICAgICAgICAgIAogICAgICAgICAgICAgICAgICAgICAgICAgICAgICAgICAgICAgICAgICAgICAgICAgICAgICAgICAgICAgICAgICAgICAgICAgICAgICAgICAgICAgICAgICAgICAgICAgICAgCiAgICAgICAgICAgICAgICAgICAgICAgICAgICAgICAgICAgICAgICAgICAgICAgICAgICAgICAgICAgICAgICAgICAgICAgICAgICAgICAgICAgICAgICAgICAgICAgICAgICAKICAgICAgICAgICAgICAgICAgICAgICAgICAgICAgICAgICAgICAgICAgICAgICAgICAgICAgICAgICAgICAgICAgICAgICAgICAgICAgICAgICAgICAgICAgICAgICAgICAgIAogICAgICAgICAgICAgICAgICAgICAgICAgICAgICAgICAgICAgICAgICAgICAgICAgICAgICAgICAgICAgICAgICAgICAgICAgICAgICAgICAgICAgICAgICAgICAgICAgICAgCiAgICAgICAgICAgICAgICAgICAgICAgICAgICAgICAgICAgICAgICAgICAgICAgICAgICAgICAgICAgICAgICAgICAgICAgICAgICAgICAgICAgICAgICAgICAgICAgICAgICAKICAgICAgICAgICAgICAgICAgICAgICAgICAgICAgICAgICAgICAgICAgICAgICAgICAgICAgICAgICAgICAgICAgICAgICAgICAgICAgICAgICAgICAgICAgICAgICAgICAgIAogICAgICAgICAgICAgICAgICAgICAgICAgICAgICAgICAgICAgICAgICAgICAgICAgICAgICAgICAgICAgICAgICAgICAgICAgICAgICAgICAgICAgICAgICAgICAgICAgICAgCiAgICAgICAgICAgICAgICAgICAgICAgICAgICAgICAgICAgICAgICAgICAgICAgICAgICAgICAgICAgICAgICAgICAgICAgICAgICAgICAgICAgICAgICAgICAgICAgICAgICAKICAgICAgICAgICAgICAgICAgICAgICAgICAgICAgICAgICAgICAgICAgICAgICAgICAgICAgICAgICAgICAgICAgICAgICAgICAgICAgICAgICAgICAgICAgICAgICAgICAgIAogICAgICAgICAgICAgICAgICAgICAgICAgICAgICAgICAgICAgICAgICAgICAgICAgICAgICAgICAgICAgICAgICAgICAgICAgICAgICAgICAgICAgICAgICAgICAgICAgICAgCiAgICAgICAgICAgICAgICAgICAgICAgICAgICAgICAgICAgICAgICAgICAgICAgICAgICAgICAgICAgICAgICAgICAgICAgICAgICAgICAgICAgICAgICAgICAgICAgICAgICAKICAgICAgICAgICAgICAgICAgICAgICAgICAgICAgICAgICAgICAgICAgICAgICAgICAgICAgICAgICAgICAgICAgICAgICAgICAgICAgICAgICAgICAgICAgICAgICAgICAgIAogICAgICAgICAgICAgICAgICAgICAgICAgICAgICAgICAgICAgICAgICAgICAgICAgICAgICAgICAgICAgICAgICAgICAgICAgICAgICAgICAgICAgICAgICAgICAgICAgICAgCiAgICAgICAgICAgICAgICAgICAgICAgICAgICAgICAgICAgICAgICAgICAgICAgICAgICAgICAgICAgICAgICAgICAgICAgICAgICAgICAgICAgICAgICAgICAgICAgICAgICAKICAgICAgICAgICAgICAgICAgICAgICAgICAgICAgICAgICAgICAgICAgICAgICAgICAgICAgICAgICAgICAgICAgICAgICAgICAgICAgICAgICAgICAgICAgICAgICAgICAgIAogICAgICAgICAgICAgICAgICAgICAgICAgICAgPD94cGFja2V0IGVuZD0ndyc/Pv/bAEMABwUFBgUEBwYFBggHBwgKEQsKCQkKFQ8QDBEYFRoZGBUYFxseJyEbHSUdFxgiLiIlKCkrLCsaIC8zLyoyJyorKv/bAEMBBwgICgkKFAsLFCocGBwqKioqKioqKioqKioqKioqKioqKioqKioqKioqKioqKioqKioqKioqKioqKioqKioqKv/AABEIAUsBbAMBIgACEQEDEQH/xAAfAAABBQEBAQEBAQAAAAAAAAAAAQIDBAUGBwgJCgv/xAC1EAACAQMDAgQDBQUEBAAAAX0BAgMABBEFEiExQQYTUWEHInEUMoGRoQgjQrHBFVLR8CQzYnKCCQoWFxgZGiUmJygpKjQ1Njc4OTpDREVGR0hJSlNUVVZXWFlaY2RlZmdoaWpzdHV2d3h5eoOEhYaHiImKkpOUlZaXmJmaoqOkpaanqKmqsrO0tba3uLm6wsPExcbHyMnK0tPU1dbX2Nna4eLj5OXm5+jp6vHy8/T19vf4+fr/xAAfAQADAQEBAQEBAQEBAAAAAAAAAQIDBAUGBwgJCgv/xAC1EQACAQIEBAMEBwUEBAABAncAAQIDEQQFITEGEkFRB2FxEyIygQgUQpGhscEJIzNS8BVictEKFiQ04SXxFxgZGiYnKCkqNTY3ODk6Q0RFRkdISUpTVFVWV1hZWmNkZWZnaGlqc3R1dnd4eXqCg4SFhoeIiYqSk5SVlpeYmZqio6Slpqeoqaqys7S1tre4ubrCw8TFxsfIycrS09TV1tfY2dri4+Tl5ufo6ery8/T19vf4+fr/2gAMAwEAAhEDEQA/APpGiiigAooooAKKhu7y2sLVrm+uIraBSA0krhVBJwOT6kgVNQAUUUUAFFFFABRRRQAUUUUAFFFFABRRRQAUUUUAFFFFABRRRQAUUVFPcwWy5uZ44hgnMjheB160bDSbdkS0VBZ39pqMHnafdQXUX/PSCQOv5ip6AlFxdmrMKKR3WNGd2CqoyzE4AHrSRSxzwpLC6yRuoZXU5DA9CDQFna46iiigQUUUUAFFc1rfjvS/DuqfYdWivISVDJMIg0cgPoQc8dDxTbb4jeFbk4TVkQ+ksbpj8SMVg8RRUuVyV/U7ll+LcFUjTk4vqk2vwOnoqtY6lZanCZdOu4bqNTtLQyBgD6cVZrZNNXRxyjKL5ZKzCiiimSFFFFABRRRQAUUUUAFFFFABRRTJmdIJGhj82RVJVN2Nx7DPagD5l/ag+IC3l9beC9MmJjtGFxqBXIBkI/dx++ASxHTJXuK9p+FHjW08cfD7T72CcPeW8SW99GfvJMqgHPsfvA+h+tfL/wAW/hv4v0G6u/F/iz7CF1XUWXbbTmQq7h3C8qOAEIz7CvUvgV8NvHHgTxAupXX2CTRNWtV+0Rx3JLjjdG4G3kjJGM9GPtQB9BUUUUAFFFFABRRRQAUUUUAFFFFABRRRQAUUUUAFFFFABRRRQAE4BJ7egzXneha2bz4veIXuftDR2ttFBbqLeQlFOGb5QuRk8847V6JXnfhP/ksvjH/cg/8AQRXPUv7WCXn+TPYy1Q9jiXJbQ/8AbonaaboWmaPPdzaZZx20l7J5twUz87euO3fgep9a0KKK3SSVkeVOc6kuabu/M8/+LPiL+ztCTSbd8T3/APrMfwxDr+Z4+man+FniGHU/DMemO+LuwBUqTy0eflYewzj8PeuT+I/h3X7q7vPEN+sCWUASOOMS7mVNwUcY6ktk/Wk8C+E/Edle6f4g09bd7eRctG020vGeCOnXv9QK8H21dY+/K7bfLv8Aefb/AFPBPJVD2i5r3vf7dtvu0/E9mooor3z4UKKKKAOc8ceGh4n8Ny28aj7XD+9tmPHzD+H6Ecfke1fP0NncT3Rt4YJHmXdmNFJYbRk8ewBr6krB0rwhp+k+I9Q1iAbpr05CkcRZ5bH1PNeTjsv+s1IzWnf0Pqcnzz6hQqUpq/WK8+q9Ov39yPwRf6LdeGbaDw/IPKt0CyRNxIjHruHqTnnoe1dFXmes6Q3w88Qf8JPpKb9Mmby7qzU4Kbu69sZAI9Dx0PHoenahb6rp0F9ZSCSCdA6N/Q+/auvDVHb2U1aUfy6NeR5eYYeN1iaLcoT6vdPqn5/mWaKKK6zygooooAKKKKACiiigAooooAKKKKAPEv2q/wDklmm/9hqL/wBET16ro93bWHgnTru+uIra2hsInlmmcIiKIxkljwB7mvKv2q/+SWab/wBhqL/0RPXrPh9Fk8I6Wkih0axiDKwyCPLHFAEel+MPDWt3n2TRvEOlahc7S/k2l7HK+0dTtVicVK3iXQl1saM2tacNUJwLE3aeeTjd/q87unPTpXl3hbQ4/hp8errRdOgSLRPFFm1zart/1U8XLRg+mCxx7j0rutCf+2/G2saw0a+Rp/8AxK7N9oyxBDTsD6b9q/8AbM+tCs7Nf10/MHpe/wAv69DqqKKKACiiigAooooAKKKKACiiigAooooAKKKKACiiigBG3BDsALY4BOAT9a4LRPDfirS/HGq69NDo8sep7Q8C3koMYXABDeVzwPQZ9q76is5U1KSl2OvD4qeHjOEUmpqzv2vfv3SOLmil8MeMJrma71C80/UbaQwxTXkjrDMvzGNFLY+cZxxkbSB1xXSaJph0rTVge4uLiRiXke4uHmO49gXJIUdAM/rk1nPcJr+uLY3GiX8cWmXInF1dRBIndQQpjO7LcnOcY4roamlFLVbdDfF1puEYS+Kyv52+H8N/v3OV+Jn/ACTrU/8Atl/6NSrXgT/kRNJ/69x/M1V+Jn/JOtT/AO2X/o1KteBP+RE0n/r3H8zXN/zHP/D+p0P/AJE6/wCvj/8ASUdBRRRXeeKFFFFABRSO6xoWdgqgZJJwBVax1Ow1SNpNNvba8RTtZreVZAD6Eg0rq9ilGTi5JaINT0621fTJ7C9TfBOm1h3+o9wea4PwK9z4Y8VX/hHUJd8JBuLN243j2+o5x6q1ejV5z8YEutM0W08UaVC0t7pMm4KnVgeQPf5gBj/aNceKhy2rx3j+K6r9T1stq86lg6j92e3lJbP9PO56NRXOeAfFM/jPwXZa5d6Y+lzXBcNau5YptcrnJVeuM9O9dHXaeQ007MKKKKBBRRRQAUUUUAFFFFABRRRQB4l+1X/ySzTf+w1F/wCiJ69b8N/8irpP/XlD/wCgCvJP2q/+SWab/wBhqL/0RPXq+iLM/gvT1tnWOY6fEI3ZdwVvLGCR357UMDk/jPpd7e+Dba90KY22t2Go276dOn3lkeQRED2Ic5B4OOa7HQNGg8P6Da6ZbfMsCYeQ9ZHPLufUsxJJ9TXNeEtC8bh4j8QtZ0vUhZzNJbfYbYo8jYIV5CcKMBjhVXrg7jiu2qto2+Yt3cKKKKkYUUUUAFFFFABRRRQAUUUUAFFFFABRRRQAUUUUAFFFFABRRRQByvxM/wCSdan/ANsv/RqVa8Cf8iJpP/XuP5mqvxM/5J1qf/bL/wBGpVrwJ/yImk/9e4/ma4P+Y5/4f1Paf/InX/Xx/wDpKOgooorvPFCiiigDhbm+Oq/GEaHfEPYWeni5jt2+6824YcjuQDxnpjPWtm78JRzeNbPxHaXktnNFGY7mGJflul52hvoT79B0xWL488Eajq2qWniHwtdLaa1Zjb8zbRKoPAz68nrwQcGrnhyPxpqcsc3jBLCwt4iGW1tAWeVh03tuYADg4B5OPpXJC/NyzjqndP8Ary0sfR1HD6vCvh6qjaHLKL3v1suvNvfo92rHX1W1Gwg1TTZ7G7TfDOhRx9e/171ZorqaTVmfPRk4yUo7o8++FTzWcOs6Jcvl9Pu8AHtnIOPbK5/GvQa4C7ddD+NFrIvyQ6vabJOcAyDIHHr8qj8a7+uTB+7TdP8AlbX+X4Hq5t+8rrELapFS+ez/ABTCiisXxLrH9lxafbxsyTalexWkbKOVDHLH/vkHHviuqUlFXZ5tKlKtNQjuzaorBg0G9sPFCX1jqly2nSxMtzZXU7zAP1VoyxO3qcjOMY49N6iLbWqCrCEGuSV016W8n/TCiiiqMgooooAKKKKAPEv2q/8Aklmm/wDYai/9ET1634b/AORV0n/ryh/9AFeSftV/8ks03/sNRf8AoievW/Df/Iq6T/15Q/8AoAoA0qKKKACiiigAooooAKKKKACiiigAooooAKKKKACiiigAooooAKKKKACiiigDlfiZ/wAk61P/ALZf+jUq14E/5ETSf+vcfzNZXxT1SwtvBV1YXF7bxXl35f2e3eUCSXbIrNtXqcAEnHpV/wCHt5bXXgfTktbiKZoYvLlWNwxjbJ+VsdD7GuD/AJjn/h/U9p/8idf9fH/6SjpqKKK7zxQooooAKKKKACiiigDL1Pw5pusajZX1/C0k9i26Ahyu05Bzx15ArUopFdXGUYMASMg55HBFSoxTbS1ZpKpOcVGTbS28ha8/8faRbNrnhuUyXm651iNHAvpgoG1vuLvwh46qAa9Arzn4ieJdHt/EHhq2k1CDzrXVUmuFVwTAgBBL4+794dawxPLye93X5o9TJlWeLSpX2lt/hZ3tjYQ6dbmG3e4dS27NxcyTtn/edice2cVZrA1bxTHYaZbarYJBqOltKEuLuC4yIEJwZPlBDAHryMVpadey36yzeQqWu7FvKJNxmX+9jAwPTk5HPpWylG/KjgqUK/L7Wot+rfXt3v5b212LtFFFWcwUUUUAFFFFAHiX7Vf/ACSzTf8AsNRf+iJ69b8N/wDIq6T/ANeUP/oAryT9qv8A5JZpv/Yai/8ARE9et+G/+RV0n/ryh/8AQBQBpUUUUAFFFFABRRRQAUUUUAFFFFABRRRQAUUUUAFFFFABRRRQAUUUUAFct8SfGP8AwgfgDUdfSAXE1uqrDE3RpHYKufYE5PsK6muK+L3hW68ZfC3V9J04br0os9ug/wCWjxsH2fVsFR7kUAfP3hvw3qfjDQ7/AOKfi3V5nvDdGCygIG2b+Fsf3VAZ8KP7p/GrBZ634Y8Xw+IvBGstFcS4a8t7pNkbEH7nylt6EeoUjt61wdx4r1m58K6R4NnlNnb6VfyzIXJj2SOQBv4yCh8w5/2z6V3fxI8aabrX9ieDfhnA1wbUxxSanBGUuL+bbsADcMwJJJJ+8SD2yeCtQrOt7WlJLS2q87nt4TG4SOE+rYmDkubmVnboke/Q/GTQzBGbix1BZdo3hEQqGxzglxkZ9hT/APhcnh//AJ89T/79R/8Axdb2jeC9GsdBsLS80jT7i4t7aOKWaS2R2kdVALFiMkkjOT1q7/wi3h//AKAWmf8AgHH/AIVPs8b/ADr7i/b5P/z5n/4Ecp/wuTw//wA+ep/9+o//AIuj/hcnh/8A589T/wC/Uf8A8XXV/wDCLeH/APoBaZ/4Bx/4Uf8ACLeH/wDoBaZ/4Bx/4Uezxv8AOvuD2+T/APPmf/gRyn/C5PD/APz56n/36j/+Lo/4XJ4f/wCfPU/+/Uf/AMXXV/8ACLeH/wDoBaZ/4Bx/4Uf8It4f/wCgFpn/AIBx/wCFHs8b/OvuD2+T/wDPmf8A4Ecp/wALk8P/APPnqf8A36j/APi6P+FyeH/+fPU/+/Uf/wAXXV/8It4f/wCgFpn/AIBx/wCFH/CLeH/+gFpn/gHH/hR7PG/zr7g9vk//AD5n/wCBHKf8Lk8P/wDPnqf/AH6j/wDi687PjfUbDxRf6lodzLFb3Vw8vkTDKsCc/MuSM+45969v/wCEW8P/APQC0z/wDj/wrzY/Cy91fxPqE8nlaZphun8oKo3Mm7jag4Ax6/ka4cXRxz5bSu79ND2crxWTw9peHKra8zvfyS7mx4e+Ltnf3EdtrVo1nI5CrNES6En1HUfrXo1Yej+DdC0Ly2sNPi85BxPIN8mfXJ6fhityvVw0a8YWryTZ81mFTBVKt8HBxj5v8t7feZ+pW11eywWyxwPp8m4Xe+Uq5XHChQpDAnrkjj1qh4a0zVNGkurGcWx0lHJsNtwzyxJnhGBQDHXHJx0561v0Vvyrm5jlWIkqTpWVn+ff16egUUUVZzhRRRQAUUUUAeJftV/8ks03/sNRf+iJ69b8N/8AIq6T/wBeUP8A6AK8k/ar/wCSWab/ANhqL/0RPXrfhv8A5FXSf+vKH/0AUAaVFFFABRRRQAUUUUAFFFFABRRRQAUUUUAFFFFABRRRQAUUUUAFFFFABUdxcQ2lrLc3UixQwoXkkc4VFAyST6AVJXkH7Snih9B+F/8AZ1s+2fWZxbHBwREBucj1zhVPs9AHnnw18L6Z8a/ij4s8UeKLL7TpKvtht97xZZjiPlGByscfPqWzX0F4b8CeF/CESp4c0O0sWAx5qpulP1kbLH8TXJ/ALwhN4R+FlqL6Jor3UpGvZkbqgYAIPb5FU47EmvTKACiivNviN4q8Z+C7yz1G2l0M+G57qOC6ubiymaWwViBvfbMA4z3AXGQMd6Fq0g6XPSaK5SXWNZ1XxXa2/hbUdIl0qOESX8slrJMyE7Sio6yquXVsgYO0AE53AV1dABRXk/xK8deOPBHinTVhTQk8N6lcpbjUbm1mZrNj1Em2UA9yCMAgY4xmu18Z6nq2keF/tWi3NguoeZHFGt3bPJHcSOQqooWRSpLEc5OBnjvR0v8AIfWx0dFQ2a3KWcK38sUtyEHmvDGY0Zu5VSzED2JP1qagQUUUUAFFFFABRRRQAUUUUAFFFFABRRRQB4l+1X/ySzTf+w1F/wCiJ69b8N/8irpP/XlD/wCgCvJP2q/+SWab/wBhqL/0RPXrfhv/AJFXSf8Aryh/9AFAGlRRRQAUUUUAFFFFABRRRQAUUUUAFFFFABRRRQAUUVmeIfEOmeFdBudY1y6W2srZdzueST2UDuSeAKANGWWOGMyTOsaL1ZzgD8adXxr8Sfjzqnji/s4bGz/s7SbG7W5jg8wmS4ZWyhkI44xnaOhPU4Br7JVg6BlOVYZBoAWiioruf7NZzT43eVGz49cDNGw0m3ZEOoatp+kxCTU7yG1RjhTK4Xd9PWvn7xzFJ8X/AI96HoFkhk0DSY/PnmZTsmXcrTFT3B/dx+xyelZ+saxe67qct/qMpkmkPTsg7KB2Aqfw54gu/DWsx39iQSBtkRukiE8qfy/SvnlnKdW3L7v4n3T4Saw91U/eW26X7f8ABPpQAKoCgAAYAHalpsUglhSRPuuoYfQ06voT4TYK57xisWpaPL4eWG2urvVoniSC55QJj5pGA52rkdP4ioyM5roawj4M0RvF6+KGguDq6oY1nN9PtCEYKiPfs298bcZ5680mr6PYadtUcB8Morr4Za7J8O9flia1uWe50K9AC/aVzmSNv9tcg++T7V6hd6vpun3dta3+oWttcXbFbeGaZUeYjqEBOWPPasLxF8N/C/izVoNT1+yubq7tseQ41C4jEJ45RUkAU8DkAE4rL8e+ANL8UW1jaf2Q95qNvC1va6hPcSEWKMADKzFsyOMZAO5t2DkZLVV725txWSemxt+PPCkPjbwRqWgzkK1zF+5kI/1cg5RvwYD8K4rwFr0nxDl0JJoZox4XixqYlyN1+qmJVHZgBvfPYsneuwvviB4T8P6yNB1nxBa2uoxW6ytHcsU3Ljj5iNpY4+7nPtUvgnQY9E0OWQRCK51S6l1G6XbjbJK24rj/AGRhfwojZNv+r/1+KQm20l/Vn/S+9nRUUUUhhRRRQAUUUUAFFFFABRRRQAUUUUAFFFFAHiX7Vf8AySzTf+w1F/6Inr1vw3/yKuk/9eUP/oAryT9qv/klmm/9hqL/ANET17FpKqmjWSoAqrbxgAdhtFAFuiiigAooooAKKKKACiiigAooooAKKKKACiiigArzL42fD6Pxp4TlurrxHdaXDpcb3PlsFa2IUZLMoAYtgHB3cZPHNem15N+0LqNw/gmw8L6VJ/xMvEeoRWkUStgugILdOdu7YD/vUAfJJ8Nax/wjq68mnXD6U0hi+1rGTGHABIJ7devTqM8Gv0A0G6+3eHNNu8g+faRSZByDuQHr+NVvDHhmw8LeE7HQLCFBa2sIjI2/6w9WY+pYkk/WtWGGK3gjgt40iijUIkaKFVFAwAAOgA7UAPpk0SzwSQyDKSKVYexGKfSMyohZyAqjJJ7CgabTuj5r8UaFJ4Z8SSaTcTRySbBNFtcFniJIVivUcgj6g1peCvB114o1WPejx6fGd085GAQP4VPcn9OtYPwuvpvih+0lqHie9QzWdhHLLbB1+WJM+XCuOxwxb6gmvqGvEWT0lV57+72/4J9hLivEPD+z5Fz2tzX/ABtbf5iKoVQqjAAwBS0UV7Z8cFFFFABRRRQBRn0TSrrU4NSutMs5r63GIbqS3VpYh/suRkfgavUUUAFFFFABRRRQAUUUUAFFFFABRRRQAUUUUAFFFFAHiX7Vf/JLNN/7DUX/AKInr2PTP+QTZ/8AXBP/AEEV45+1X/ySzTf+w1F/6Inr2PTP+QTZ/wDXBP8A0EUAWqKKKACiiigAooooAKKKKACuQ8Q+NGtfGWm+D9EEL61qETzmWdS8VpCoPzugZS5JGAoI+o79fXj3juXRtC+Onh/xCut2FpqUNm6X1neXKwCW2O5Qyu5Ch8scKSN2OoxS+0k/60H0bX9f1+Zrjx14v074jQeDNS0fSL25u4GurXUY7qW0iljX7w8vZKQ4543Y46816VXmelXml+MPi9Z69DruiyJp2nywWVha6jFcXMjOfnkdUYhQFGAAW65JHStPxz4a1nV4LvU7XxdqOgf2dE0llHZSKsLFVyWnBBMgyMbcgADvmi9o3l5/19wWvK0TuaKw/BV/qmqeB9HvtfhEOpXFoklwgXbhiOuO2euO2a3KqS5W0yYvmVwrwXwhqUvxH/aa1PXYgZ9F8N2z21nKOYw5+TI92zKwI7AV6X8UvFdv4O+G+ranPIUlaBre1CnlpnUhAPoeT7A1S+DXghvAnw3stPu0VdQuSbq8wOkjdF/4CoVfqD60hneUUUUAFcF8avFcfhL4VatcCQLdXsRsrUbsEvICpI/3V3N+Fd7Xy58YdUk+Jfx10XwVpRMtrYTC3lHYyE7pm68hUUD1yrUAd58FdKtfhr8IbfWdagkSfWJhcTuseWjjYYiB77cDOOeXNeoad4r0LVkBsdUtpCf4GfY//fLYNP8AEOjprXhq80sBV86ErHxgKw5U/QECvmyWCSC4eCVCssblGXuGBwRXk47G1cLUVo3i/wAz6jJ8ow2Z0JXm4zi/lZ7aff1PqcEEZByPUUV5x8IdKeLR59Re+aRJHMaWySkpHjqWXpuP8vrXo9d+HqutSVRq1zxMdho4TESoRlzcvW1gooqhrV7NY6Y72iCS6kYQ26HoZGOAT7DOT7A1s3ZXOWEHOSiupcaWNG2vIqn0LYp9c8i6fZ6Tc6TbMupXzRn7REpV5JXYYLSdlBIPLYHGB0xWpotpPYaDYWl5L51xBbxxyyZJ3MFAJyeetKLubVKMYR5r9fS67l2isDxD4ibT9R0/RtPVH1TU2YQeaD5cSqMs7Y5OB0A6nuOtUdQm8TaFr+nG3a41zTLyYQ3QeGMPaEnhwUVfk5Od2cY681LqJfka08FUmk20uZNq7tdLt06NK7V2jraKKK0OEKKKKACiiigAooooAKKKKACiiigAooooA8S/ar/5JZpv/Yai/wDRE9ex6Z/yCbP/AK4J/wCgivHP2q/+SWab/wBhqL/0RPXsemf8gmz/AOuCf+gigC1RRRQAUUUUAFFFFABRRRQAV4l4tu/h/wCJ/ipeaR8T9Ph0w2EKpYzXrNbreqeTJ56lflHQKWxyx68D22qepaRpus2ptdY0+1v7c9YrqBZUPOejAjsKXW476WPJLH4e/C2TVrGT4bTWv9uW1zFOlxp2qSXIgRWBfzP3jKFKhl56lgK6Dxr45S31g6LN4O8XarYxFXuJdM0hpIbg9RHuJXK9CcZBxjpmu907S9P0i1W10mxtrG3X7sNtCsaD8FAFWqq70RJnaBqza5odvqL6be6Z54JFrfxeXPGASBvXJ2k4zjPQitGiqmranbaLo15qd++y2s4Xnlb0VRk/ypDPDPiLeS/Ez47aF4D07P2DQ5heak5+6SArH8lIQf7Uh9K9+rxz9n7wxIumap481Rduo+J7iSdUxxFEZGbjv8zEn6Ba9joAKKKKAKOtava6BoV9q2oMVtrGB55SBk7VBJx78V4D+zd4Ym1nxHrfxE1NTunnlhtlYdXdg8j5x2ztBHq1af7UPjZtL8M2nhSzbE2qnzrpgeVhRhgf8CYfkpHevVvh/wCG4fCPgHR9FhTabe2XzePvSt8zn8WJoA6OuSg8A2C+NL7XLpY547gZjt3TIRyPnY+uefzNdbRWc6UKluZXtqdFHE1aCkqUrcys/Q8wEg+FvisxsWl0LVTuAxzbsD+uAfqR7jn05HWSNXjYMjAFWByCPWsnxN4etvE2iSafdHYSQ0UoGTG46EfyPsTWD8OtbkktJ/DmogJqGkExEBs70BwCPp0+mK5Kd8PV9l9l7eT6r9UepiGsdhfrK/iQ0n5rZS/R/edrWVqNwn9v6RZnlmaWf6BU2/zkFatYE0Ud34+RZFDC20xuD/00lX/41XZPovP/AIP6HmYaKcpOWyT/ACt+bJPEUslrPpVxaE/aTepAEB/1sb/6xT7BRv8A+ACtuq6WMEc6zbWeRQQrSSM+3PXGScfhVimla5FScZQjFdOp5v8AEtL/AETxFofjC0t2urbTC0dzGn3lVu/0wSM9jitvTfiT4f125hs9DmnvL2bGIFtnHljuzsQFAHc5+meK6W0tUtrMQAErliQzl/vEkjJ5PWm2Ol6fpiuum2NtZq7bnFvCsYY+pwOTWMac4ybT0etv8j0pYzDVMPGlWg3KF1Fp2TV2/eVns29mvUwrLxhEuo6tb600NolleLbRugZlwyhgXbGFyTjJwM8V09eeeIbc6JbeJV1eS1ttP16ZVS/nuFSODcix4YEhi3BKhQc4GSOtd9bQ/Z7SKEOX8tFTc3VsDGTV0nJr3jDGww6UZUXq7aXv9lfdrfRktFFFannBRRRQAUUUUAFFFFABRRRQAUUUUAeJftV/8ks03/sNRf8AoievY9M/5BNn/wBcE/8AQRXjn7Vf/JLNN/7DUX/oievY9M/5BNn/ANcE/wDQRQBaooooAKKKKACiiigAooooAKKKKACiiigArw/9onxJe3Mej/D3QHB1DX5k89QeRFvCoDjkBnySfRDXuBIAJPAHU14f8MdMHjH42eLvH9x+/srS4bT9LkJyrbflLp7BFHI/56GgD2XSdNg0bRbLTLQbYLK3S3jHoqKFH6CrdFFABRRXD/GDxgPBfwx1TUIpvKvZ4/stmQwDea/AIz1KjLf8BoA8Vs9MPxY/ao1GS9JuNJ0WYlsDKGOA7ETPo0nPuN1fUVeR/s3+F00T4Xx6rKmb3WpWuJHYfN5YJVFz6cFv+BmvXKACiiigArzDx9ZXHhTxNaeL9HB/ePsukz8rHGOfZgCPqAeten1S1nS4da0a60+5HyXEZTOPunsR7g4Nc2Jo+2p2W61Xqejl2LWFxClJXi9JLunv/mWbedLm2iniOUlQOp9QRkVJXFfC7V3vfDT6ddNm60yUwspPOz+H8uR/wGu1rSjVVWmprqYYzDvC4idF9H+HR/NBRWdqniHSNEubK31bUbe0m1CXybWOVwDM/oo/EfmPUVz51nWNe8UeJPCsul32kWsNkv2PWoScSO4OWVsYDLlcDnlWz2rU5Td13xLovhizW68Q6pa6dC7bEa4lC7z6AdSfpXMjxpr0/wAWbjwkPDlzBpSWhkXWUBdd5UFTnG1R95cHJJHpU2hfD2BvAmk6H49aDxRc2DtMbi7QvlyWP8RJbAbbz1AGRXZqqooVAFVRgADAAoA4Wx+HU2reBT4f+Jmqt4oZ7n7S0m0wbTnIUFSDgZPpwccCu4ghjtreOCEFY4kCICScADA5PJp9FABRRRQAUUUUAFFFFABRRRQAUUUUAFFFFAHiX7Vf/JLNN/7DUX/oievY9M/5BNn/ANcE/wDQRXjn7Vf/ACSzTf8AsNRf+iJ69j0z/kE2f/XBP/QRQBaorx/wZJb/ABL8beNU8Z2q30Wl3os7PTLtd0VvGNw8wIeN7Yzv6joCBUPwisru1+JfjTSbrU9UvrLQ7mOOw+0ajO8cSOHOwoX2NgY5IJGM0R1+6/5f5oHpfydj2ais2HxFpNx4im0KC9jk1OGHz5bdQSUTOMk4wOT0zmtKjzDyCiiigAooooAKKKKACiiigDzT48eMx4S+Gt3BbSldT1cGztFQnf8ANw7DHPCk8+pWt/4XeHpfC3wv0LSbmEwXMNqHuIzjKSuS7g47hmI/CvNtX0t/iT+09DFnzdG8HwxPcAn5fPJLqo9y23PbERFe60AFFFFABXzX+0W1z4w+JvhjwTo7+bchCzxqchHlYcsP9lE3ewPvX0Tq2qWmiaNeapqMnlWllC88zgZIRRk8DqcDpXz/APAK2l8bfE/xR8RNSBLeY0Vqr4Owydv+Axqq/RqAPf8AR9Lt9D0Ox0qxXbbWNulvECc/KihR+gq5RRQAUUUUAFFYV34y0Ox8ZWXha6vPL1e+hM8EJRsOoz/FjGflbjOeDWFf2nivxv4J1/S72CTwnqDXLxafdW13v3xKw2uWXBAbDAjA4IxQBgx3tt4K+NUlve3CW9trjYh8xwN7yHIwD1O/K/jVp7rxt4+s/FPh3UNIuvCCqoTTdVguCd7K/PzDBKsAv3R0Lc5xXYWXhLThZaH/AG1bW2qajo1usUF9PACysFUM65ztJKg+1b1YUaKoppPRtv0uduMxbxcoykrNRS9bdTlPDXgS00rwvouma/JHr91o6n7PeXcClkJ7qDnGBwDycAc11dFFbnEFFFFABRRRQAUUUUAFFFFABRRRQAUUUUAFFFFABRRRQB4l+1X/AMks03/sNRf+iJ69j0z/AJBNn/1wT/0EV45+1X/ySzTf+w1F/wCiJ69gskeTQbdIpDE7WyhZAASp28HB4OKGB4XruvanYfErXNQsPBHim11AOLV73w4kc63EQAIMuY5E3nIPQMo289c9l8LPE1jJfXOhR+Ddc8NXE4e+M2rxPuvX3AOxd+Wb5h+HpisOLxD8Rvhgsei3XhQeMoJJpGjv9MWdJDubcXnxG43Esenp7V6boaaxqUkWp+IrW0spEQi3tLd3kMW77xaRlXJIAGAoxzycjDjpH+v63CWr/r+tjAjAH7RM5A5PhiPP/gS1d7XJt4S1UfE9vFcWs2iwNZLYtYtp7FvKDbziXzR8xYnnbjHGD1rrKL+6l6/m2L7bfp+SX6BRRRSGFFYXjXw/pPifwdqGleIHSKwmiy8zOF8kg5V8ngYIB5r8/wC8txaX09uJUmEUjIJYzlXAPDA+h6igD9HaK+Z/2cvhPY6jax+Ntfi88xzkabbspChkPMpz975uF7AqT1xj6YoAKwPHHiu28E+C9R8QXimRbSPKRj/lpIxCovtliBnt1rfpskaSxtHKiujDDKwyCPQigDy79n3SLm1+HMmuamv/ABMPEN5LqEzsMMwY4XPscFh/v16nUcEENrbx29tEkMMShI441CqigYAAHAAHapKACiiqGq67pGhQrNreqWWnRMcK95cJEpPoCxFAHkn7T/iaTSPh1baPbsVk1m42OQcfuo8Mw/Fig+ma6r4KeCm8D/DKytLlcX16ftt2P7ruBhev8KhRxxkE968r1C5t/jH+01aaY1xDd+HtCjMsfkOJI5lUKzHcuQQ0hVTz0GOtfSlABRXPJ4ustS1jWtC0O4hm1fTLYSMrMrxh23BVIVt3BA3DAPI9a5fS9H1X4o/DbQ7jxlLfaHqCXAupY7Bmg8wKxKhkYdCNp5BwRkHmgDoX8f6Q/jq48G2bSSa7DatceVIjRxHCghd5HOQwOVBAAPcYrkdT8P8AjP4r/D42fiHzPBF4b7eqW0xm8632kbJFVl7noT/CDgdK9I/sTSxrp1r7Bb/2mYRB9sMY8zywSdu7qBk1eoAybLw5YwSWF3fRRahqtjarbLqU8KmYgDk5x8pJyTjHWtaiigAooooAKKKKACiiigAooooAKKKKACiiigAooooAKKKKACiiigAooooA8S/ar/5JZpv/AGGov/RE9ex6Z/yCbP8A64J/6CK8c/ar/wCSWab/ANhqL/0RPXsemf8AIJs/+uCf+gigC1RRRQAUUjMEUs5CqoySTgAV4743/aH0fRdQfRfB1lJ4j1jf5a+Rkwh/QFcmQ+y8e9AHr888VrbyT3MqQwxqWeSRgqqB1JJ4Arxzxh+0FZJdjQ/hpZv4l1yVtiNHEzwKe+MYL/hx3zVHRfhj4+8esl78W/EdxDpkrCRtCtH2Bx1CvswqgenzN7g16t4c8DeGPCIP/COaJZ2Dsu1pY48yMPQucsR9TQB5hZfDHxr8SY47j4x6y9tYp88GjaaUTDeshAI49MsfcVzPiz9m+Kb4maNZ+GYZLTw5cW++9mMjOYTG3z8tn5nDLtHruOMCvpSigCjomjWXh7Q7PSNKi8mzs4hFEmckAep7nuT61eoooAKKKKACiiq2oajZaTYyXmqXcFnbRDLzTyBEUe5PFAGH8RPFI8F/D3V9eGDLawYgBGQZWIRMj03MM+2a+Y4/A0+v/DPV/in8SNXvbiSSNhYQqwDTPu8tCxIOE3nhVA4GcgV0Hxm+Ouj+MPD934R8MWE93FcyIGv5DsBKOrDy05LZIxk4+h61574Jni8aahaaJ488cSaToGnRAwwTOdjbeAqAgxg47tz7HnABmeBPGGsfD7UV8R6DNbsxb7Lc20q53xnDgH0BKnBByCp/H6t0Z/FvxF8M+FPEMeqzeFuTc3tnFCHW8XIMZGTkIwGeT0bp3rwL4jv4N8R63pXhH4QaOkkstz+/uoY2AuJMbVALc7VBYk8LznoM19beH9Jj0Dw1pukQtujsLWK2VvUIoXP6UAUNN8EeHtJ8V6h4lsNPWLV9RGLi53sSw4yACcAEqCcDkjmt+iigAooooAKKKKACiiigAooooAKKKKACiiigAooooAKKKKACiiigAooooAKKKKACiiigDxL9qv8A5JZpv/Yai/8ARE9ex6Z/yCbP/rgn/oIrxz9qv/klmm/9hqL/ANET1Yl+Pem3UEGhfDzTLzxHrzRLHCiwlIFYAAszEg7R64A9x1oA9gubq3srdri8nit4UGWklcKq/UngV5R40+POn6dMdK8AWbeK9ZbI22atJDF7koDv+i/mK5+H4QePPiHrSXvxd10RabG29NKsJeh9MAbFH+1lmI7jrXsfhrwloXg/TRY+G9MgsIeN3lr80hHdmPLH3JNAHjWkfCbxn8Sboa18W9cu7K3kOU0W1faAo6AgEqgPpgt6kGvZfDvhHQPCljHaeH9KtbGONQu6OMb292f7zH3JNbNFABRRRQAUUUUAFV7+9i07Tri9uSRFbxtK+OuAMmrFcL8T/HPhjw54Yv7HW9Xgt7y5t2WG2XLysSOPkXJAz3OBUzbUW47mtFRlUipuyur+h5nr3jvXNcv3mN7NaQZ/d29vIUVB2zj7x9z+nStXwT8Q7rRtU8vXr2e406UYd5WaQwnsw6nHqB9a4OGaO4hSaB1kjcBlZTkEVteGPD1z4m1uKxtkJjyGnfoI488mviqWIxDrqSbcrn69icFgVg5QlFKCW/bzv/Vybxn+0bqurXkuk/CnSprk42/2g1s0sjEg/wCrhxx2wWznn5a5CbwzJ4p1PTpPiRqOrW1yp/0853SLnnGxuEIyOg4HGO1fU/hzwxo3hLSE0zw7p8VjaIc7I8ksf7zMclj7kk14P42O7xxq+B/y9MK+hzOvOhCE4PW58Hw7g6OMq1aVZXXL92q1R7V4U8G+E/Dmmwf8IvpVjDHsGy5jQPJIPUyHLN+JrM8S/B7wL4ruDc6roEC3LNuae1Jgdz6sUI3fU5rmfhvpHi2xaG8sxCNJuSGeOeb5XX+8oGSG/L3r1yu3DV3XpqUouLPJzHBwwdd04VFNd1+T8zmvCfw78K+CFf8A4RrR4bSVxh5yTJKw9N7EnHtnFdLRRXSecFFFFABRRRQAUUUUAFFFFABRRRQAUUUUAFFFFABRRRQAUUUUAFFFFABRRRQAUUUUAQXt9a6bZS3mo3MNrbQqWkmncIiD1JPAryDWf2idPl1xtE8AaDeeKb7O1XhykROcEjgsVHc4A98c16X4w8Kad428LXeg6z5gtboLl4mCujKwYMpIPII9KZ4R8E6D4H0gad4csUtos7pJCd0krerMeT/IdsUAfM/xr0Dx+3ha08U+P9WhVbm9SGHRLZiY7QtHI3+7uATGfmPPWvpXwX4V0Twr4dtbbQNNgskeFGkaNPnlbaOWbqx+teZ/tV/8ks03/sNRf+iJ69j0z/kE2f8A1wT/ANBFAFqiiigAooooAKKK888f/Gvwr4Cikgkul1PVV4XT7RwWU/7bchOo68+gNAHodcP45+LvhLwATBrF609+ACLC0Akm56ZGQF/4ER7V44vxK+KXxnaTTPA2nJodirYuLyGUjYCPutMenXOEXd+FdP4Z/Zf0O1nW98Y6rda3dMxeWJCYonY8nceXbnvkZoAwbv4y/EX4mXTad8LfD01hbbtj3zAOy9OsjDy4+D05Poau+F/2XU/tNdR8e64dTZ2Mk1pbbx5rnklpidx5JzgAn1r3vTdMsdG06Gw0q0hs7SBdscMKBVUewFWqAOcPw/8ACf8AZsNhHoNnBbQ/cS3TyiPxXBP4nmtTStD0zRIWi0qyitVbG4ovLemT1P41foqPZwUueyv3NniKzp+yc3y9ru33BWSnhfR0e9kFjEZr7f58rLuZt+dwyeg56CtainKMZbomFWpTvyNq5wPwq1Bhpl/oVwf32mXDKOP4WJ/9mDfmK76vLrMHw18cJ4FGLfVlZhk/3xuz/wB9qR9DXqNceBk/Zeze8W19234Hq5zBfWVXjtUSl9+/43CiqQv/AD9UlsrUAm3QNPIwOELfdUepwCTzwMetNiv5TfT2csarJG6bCCcSIwzu9j8rjHPQeuK7OZHl+xn+F/l/X+ZfoorF13xANL1DTNNto1mv9TmMcSMcKiKMu59QB27njjrTclHcKVKdafJBa/5av7kbVFc9favqul+JdJs7iGK6stReSIzQwsjQOF3Ln5iCCAfTGDXQ0oyUr+Q6lGVNRk9pK6+9r80FFFFUYhRRRQAUUUUAFFFFABRRRQAUUUUAFFFFABRRRQAUUUUAFFFFABRRRQB4l+1X/wAks03/ALDUX/oievY9M/5BNn/1wT/0EV4z+1VLH/wrHTovMXzP7YibZu5x5M3OK9l0plfR7NkIZTAmCDnPyigC3RUVzcwWdu093NHBCgy0krhVX6k8CvKfH/7QvhnwoptdAePxDqZOPLtpf3Mf+9IAQT7Lk+uKAPW68x8e/Hrwl4ImlsUkfV9UjyrWtmRtjbnh5DwORggZI9K8fj0n4v8Axs1P7XeSz6Loznbh3e3t0Xj7sed0h9yCM8ZFexeBvgP4P8HWkT3djFrWphf3l3exhl3f7EZyq/qfegDymy8T/GP4zu9lpaDRdCuTtluooTFEsZz/AMtWy7njBCHnvgGu/wDCn7NHg7Q/Jn1xrjXbtMFhOfLg3e0a8kezMRXsSIsaKkahVUYVVGAB6UtAENpZ21hax2tjbxW1vEu2OKFAioPQAcCpqKKACiiigAooooAKKKKAPN/iVD9k8U+GdWQYKXAjdh6K6sB+rV6RXDfFqEt4RhuU+9a3kcn4YI/mRXcKwdQy8hhkVx0Vy4iou9n+n6Hr4uXPgMO+3Ovuaf6mFoU6WjalHfkQXTX8rt5ny+apP7tl/vDZsHHcY6ikllmtvFdteTxeXaXVs0Bdv+WbKwZN3puDP+QHXit+iulRskuxxvEJzc+XdWf3dP0Gu6xRtJIwVFBLMegFeZfES+k0fxZ4V8Wwr52mxExyyryFVx1/FSSPpXpxGVIBIyOo7Ux7aGW2NvNEksJXaUdQwI9CDUVYOa0dmtTTAYqOErKpKPMtU13TTT+epkxeK9Gv5oLfSNVsb25mYBYoZ1dgvViQDkYXJ578VL/wkNp/bQ07y5txlMHnbR5fmhPM8vrnOznOMe+eKnsNE0rS2LaZplnZlupt7dY8/kBWHL4e1V/EMd60trLHDqH2qOSR2MgjMLRmPGMAKWyMHByc4PJq81a5cI4OcpJXSSdrvW/TY6qiiitDzQooooAKKKKACvJfG+veKvAPj3RdT1DX7m58F3twILtGtrcG0duFLOIwfL75zng89K9arg9TvdL+I+s3vhS3v4JtKs1/4mYgnG+eT+GEAc7RwWPrhf72DW6aHpZ3NTwqdZ1O6utbv9Su1026fOn6bLDCuyHHDsQgfLfeAJ4GM85rqK8c+Enjl9O1zUPhx4o1WG71DSpCthfGUEXUPG1c55cAjjrjI/hr2Om7WTjsTrdp7hRRRSGFFFFABRRRQAUUUUAVtQ1Kx0iwkvtVvLextIseZcXMqxxpkgDLMQBkkD6msT/hY/gj/ocvD/8A4NIP/iqPiD4R/wCE78Cah4b+2/YPtvlf6R5Xm7Nkqyfd3LnOzHUda8R/4ZG/6nb/AMpP/wBuoA9u/wCFj+CP+hy8P/8Ag0g/+Krk/iT8a/D/AIY8F3F34Z1rStW1aRhDawW12k2xj/GwQn5VAJ56nA7157/wyN/1O3/lJ/8At1cz4/8A2bdS8HeFJta0rWTrf2Y7ri3Wy8lkiwcuPnbdjjIx0ye1AHA69o0t34UTxlq/ijT7/V9Tvdr6clykt0qFXJlkAbKcqBtxwGHTpWp4S+JWu/CnXL210DU7fWNOZWURMXNu7FcrIFOCpBIzjGcEZPBrnbzR9Ai8GW2qWHiQ3OrPOsVzpD2JjMKlXO8SbiHAKgcAfeGcVf07wVZ+I/iDpvhnwlrEmqR3jKsl69kYRF1MhCFiWVVGckjPTHQkA6fzvEvxe1hH8beOdH0jS87/APSdSgSOL0CW4kBLc9Wxx1avbPAGhfB34fH7Rp/inQb3UiMG/vNUt3kX/cG7Cfhz6k1x/wDwyN/1O3/lJ/8At1H/AAyN/wBTt/5Sf/t1AHt3/Cx/BH/Q5eH/APwaQf8AxVH/AAsfwR/0OXh//wAGkH/xVeI/8Mjf9Tt/5Sf/ALdR/wAMjf8AU7f+Un/7dQB7d/wsfwR/0OXh/wD8GkH/AMVR/wALH8Ef9Dl4f/8ABpB/8VXiP/DI3/U7f+Un/wC3Uf8ADI3/AFO3/lJ/+3UAe3f8LH8Ef9Dl4f8A/BpB/wDFUf8ACx/BH/Q5eH//AAaQf/FV4j/wyN/1O3/lJ/8At1H/AAyN/wBTt/5Sf/t1AHt3/Cx/BH/Q5eH/APwaQf8AxVH/AAsfwR/0OXh//wAGkH/xVeI/8Mjf9Tt/5Sf/ALdR/wAMjf8AU7f+Un/7dQB7d/wsfwR/0OXh/wD8GkH/AMVR/wALH8Ef9Dl4f/8ABpB/8VXiP/DI3/U7f+Un/wC3Uf8ADI3/AFO3/lJ/+3UAe3f8LH8Ef9Dl4f8A/BpB/wDFUf8ACx/BH/Q5eH//AAaQf/FV4j/wyN/1O3/lJ/8At1H/AAyN/wBTt/5Sf/t1AHpfj7xn4V1jwVe2WleJtHvbtzGY7e2v4pJHxIpOFViTgZP0Fbdh8Q/BsWm20d14t0GGdYkWSN9ShVkYAZBBbIIPavILL9lO40+8S6s/HXlTR52uNIBxkYPWb0NRzfsmPcTyTTeON0kjFmb+yepJyT/rqwVNqs6nRpL7m/8AM7JV4PCRodVJvys0l+h7X/wsfwR/0OXh/wD8GkH/AMVR/wALH8Ef9Dl4f/8ABpB/8VXiP/DI3/U7f+Un/wC3Uf8ADI3/AFO3/lJ/+3VucZ7d/wALH8Ef9Dl4f/8ABpB/8VR/wsfwR/0OXh//AMGkH/xVeI/8Mjf9Tt/5Sf8A7dR/wyN/1O3/AJSf/t1AHt3/AAsfwR/0OXh//wAGkH/xVH/Cx/BH/Q5eH/8AwaQf/FV4j/wyN/1O3/lJ/wDt1H/DI3/U7f8AlJ/+3UAe3f8ACx/BH/Q5eH//AAaQf/FUf8LH8Ef9Dl4f/wDBpB/8VXiP/DI3/U7f+Un/AO3Uf8Mjf9Tt/wCUn/7dQB7d/wALH8Ef9Dl4f/8ABpB/8VR/wsfwR/0OXh//AMGkH/xVeI/8Mjf9Tt/5Sf8A7dR/wyN/1O3/AJSf/t1AHt3/AAsfwR/0OXh//wAGkH/xVH/Cx/BH/Q5eH/8AwaQf/FV4j/wyN/1O3/lJ/wDt1H/DI3/U7f8AlJ/+3UAe3f8ACx/BH/Q5eH//AAaQf/FUf8LH8Ef9Dl4f/wDBpB/8VXiP/DI3/U7f+Un/AO3Uf8Mjf9Tt/wCUn/7dQB7d/wALH8Ef9Dl4f/8ABpB/8VXjOhftLrp3jLVtL8WKl5pCX0yWWo2KhmWMSEKWAOHXbjDLz9c1X/4ZG/6nb/yk/wD26vFoPh/ruq+NtS8NeG7ObVbiwupYGkjQIuEcrvYk4QHHc/nQB9veGfGvhzxjbvL4a1e2vxHgukbEOmem5Dhh+Irdr5z+GP7N+paVqseseLtVlsZoGDQ22l3JVz/vyjGB7L19a+i1UKoUZwBgZOT+dAC0UUUAFFFFABRRRQAUUUUAFIQGUhgCCMEHvS0UAfLn7RHwp8O+E9Hj8UaCk1rNfaisEtorDyF3JI5ZRjKnKDjOOeAK9t+HHw18NeBNJjl0OzJvLmFTPeTtvlfIBxnooz2AAriP2q/+SWab/wBhqL/0RPXsemf8gmz/AOuCf+gigC1RRRQAUUUUAFFFFABRRRQAUUUUAFFFFABRRRQAUUUUAFFFFABRRRQAUUUUAFFFFABRRRQAUUUUAFFFFABVPTtH07SBONMsYLX7RK00xijCmV2OSzHuSSeTVyigAooooAKKKKACiiigAooooAKKKKACiiigDxL9qv8A5JZpv/Yai/8ARE9ex6Z/yCbP/rgn/oIqp4h8MaN4r09LHxFp8OoWscomSKXOA4BAbjvhiPxrTjjWKJY4xtRAFUegFADqKKKACiiigAooooAKKKKACiiigAooooAKKKKACiiigAooooAKKKKACiiigAooooAKKKKACiiigAooooAKKKKACiiigAooooAKKKKACiiigD//2Q==)"
      ]
    },
    {
      "cell_type": "code",
      "metadata": {
        "id": "kHARBADLl9fa"
      },
      "source": [
        "def cycloidal(t,T,S0,dS):\r\n",
        "    # cycloidal motion law\r\n",
        "    \"\"\"\r\n",
        "    t time instant considered\r\n",
        "    T time to comlete the movement\r\n",
        "    S0 starting position\r\n",
        "    dS total dispacement \r\n",
        "    \r\n",
        "    assumption: Vini=Vfin=0\"\"\"\r\n",
        "\r\n",
        "    ca=2*np.pi\r\n",
        "    xpp=ca*np.sin(ca*t/T)*dS/T**2\r\n",
        "    xp=(1-np.cos(ca*t/T))*dS/T\r\n",
        "    x=S0+(t/T-np.sin(ca*t/T)/ca)*dS\r\n",
        "    return x,xp,xpp\r\n",
        "\r\n",
        "def exteded_jacobian(q,l,g1,g2):\r\n",
        "    q1 = q[0]\r\n",
        "    q2 = q[1]\r\n",
        "    l1 = l[0]\r\n",
        "    l2 = l[1]\r\n",
        "\r\n",
        "    jacobian = np.array([[-l1*np.sin(q1)-l2*np.sin(q1+q2),-l2*np.sin(q1+q2)],\r\n",
        "                        [ l1*np.cos(q1)+l2*np.cos(q1+q2), l2*np.cos(q1+q2)],\r\n",
        "                        [-l1*np.sin(q1)-g2*np.sin(q1+q2),-g2*np.sin(q1+q2)],\r\n",
        "                        [ l1*np.cos(q1)+g2*np.cos(q1+q2), g2*np.cos(q1+q2)],\r\n",
        "                        [1,1],\r\n",
        "                        [-g1*np.sin(q1),0],\r\n",
        "                        [g1*np.cos(q1),0],\r\n",
        "                        [1,0]])\r\n",
        "    return jacobian\r\n",
        "\r\n",
        "def exteded_jacobian_dot(q,q_dot,l,g1,g2):\r\n",
        "    q1 = q[0]\r\n",
        "    q2 = q[1]\r\n",
        "    dq1 = q_dot[0]\r\n",
        "    dq2 = q_dot[1]\r\n",
        "    l1 = l[0]\r\n",
        "    l2 = l[1]\r\n",
        "\r\n",
        "    jacobian = np.array([[-dq1*l1*np.cos(q1)-(dq1+dq2)*l2*np.cos(q1+q2),-(dq1+dq2)*l2*np.cos(q1+q2)],\r\n",
        "                         [-dq1*l1*np.sin(q1)-(dq1+dq2)*l2*np.sin(q1+q2),-(dq1+dq2)*l2*np.sin(q1+q2)],\r\n",
        "                         [-dq1*l1*np.cos(q1)-(dq1+dq2)*g2*np.cos(q1+q2),-(dq1+dq2)*g2*np.cos(q1+q2)],\r\n",
        "                         [-dq1*l1*np.sin(q1)-(dq1+dq2)*g2*np.sin(q1+q2),-(dq1+dq2)*g2*np.sin(q1+q2)],\r\n",
        "                         [0,0],\r\n",
        "                         [-dq1*g1*np.cos(q1),0],\r\n",
        "                         [-dq1*g1*np.sin(q1),0],\r\n",
        "                         [0,0]])\r\n",
        "    return jacobian\r\n",
        "\r\n",
        "\r\n",
        "\r\n",
        "#2D Robot moving a payload and subjected to a constant external force\r\n",
        "#link1\r\n",
        "l1 = 0.33 #m\r\n",
        "g1 = 0.28 #m COM\r\n",
        "m1 = 7.8 #kg\r\n",
        "J1_z = 0.0565 #kg*m^2\r\n",
        "\r\n",
        "#link2\r\n",
        "l2 = 0.33 #m\r\n",
        "g2 = 0.283 #m COM\r\n",
        "m2 = 7 #kg\r\n",
        "J2_z = 0.0565 #kg*m^2\r\n",
        "\r\n",
        "#payload\r\n",
        "M = 0.5 #kg\r\n",
        "\r\n",
        "M_matrix = np.diag([M,M,m2,m2,(J1_z+J2_z),m1,m1,J1_z])\r\n",
        "\r\n",
        "#Trajectory data\r\n",
        "T = 5 #total movement time \r\n",
        "n = 100 # of points of the Mot.Law\r\n",
        "dT = T/(n-1)\r\n",
        "\r\n",
        "\r\n",
        "Si=np.array([0.2, 0.5]) #start point\r\n",
        "Sf=np.array([-0.5, 0.2]) #end point\r\n",
        "\r\n",
        "dS=Sf-Si\r\n",
        "l = np.array([0.33,0.33])\r\n",
        "\r\n",
        "tt = np.zeros((n))\r\n",
        "x = np.zeros((n))\r\n",
        "xv = np.zeros((n))\r\n",
        "xa = np.zeros((n))\r\n",
        "y = np.zeros((n))\r\n",
        "yv = np.zeros((n))\r\n",
        "ya = np.zeros((n))\r\n",
        "\r\n",
        "Fee = np.zeros([8,])\r\n",
        "Fee[0] = 1\r\n",
        "Fee[1] = 1\r\n",
        "\r\n",
        "\r\n",
        "\r\n",
        "for i in range(n):  \r\n",
        "    t=(i)*dT #time between 0 and T with dT sampling time\r\n",
        "    tt[i]=t\r\n",
        "    x[i],xv[i],xa[i]=cycloidal(t,T,Si[0],Sf[0]-Si[0])\r\n",
        "    y[i],yv[i],ya[i]=cycloidal(t,T,Si[1],Sf[1]-Si[1])\r\n",
        "\r\n",
        "\r\n",
        "\r\n",
        "X = np.transpose(np.vstack((x,y)))\r\n",
        "Xp = np.transpose(np.vstack((xv,yv)))\r\n",
        "Xpp = np.transpose(np.vstack((xa,ya)))\r\n",
        "\r\n",
        "plt.figure()\r\n",
        "fig, axs = plt.subplots((3))\r\n",
        "axs[0].plot(tt,x,'b',tt,y,'r')\r\n",
        "axs[0].set(ylabel='Position')\r\n",
        "axs[1].plot(tt,xv,'b',tt,yv,'r')\r\n",
        "axs[1].set(ylabel='Speed')\r\n",
        "axs[2].plot(tt,xa,'b',tt,ya,'r')\r\n",
        "axs[2].set(xlabel='time',ylabel='Acceleration')\r\n",
        "plt.show()\r\n",
        "\r\n",
        "q1,q2 = ik2P(X,l)\r\n",
        "\r\n",
        "rp1,rp2 = fk2P(q1,l)\r\n",
        "\r\n",
        "q1_d = np.copy(q1)\r\n",
        "q1_dd = np.copy(q1)\r\n",
        "torque = np.copy(q1)\r\n",
        "\r\n",
        "for j in range(np.shape(q1)[1]):\r\n",
        "  J = exteded_jacobian(q1[:,j],l,g1,g2)[:2,:] \r\n",
        "  q1_d[:,j] = np.dot(np.linalg.inv(J),Xp[j,:])\r\n",
        "  J_dot = exteded_jacobian_dot(q1[:,j],q1_d[:,j],l,g1,g2)[:2,:]\r\n",
        "  q1_dd[:,j] = np.dot(np.linalg.inv(J),Xpp[j,:]-np.dot(J_dot,q1_d[:,j]))\r\n",
        "  J_ext = exteded_jacobian(q1[:,j],l,g1,g2)\r\n",
        "  J_ext_dot = exteded_jacobian_dot(q1[:,j],q1_d[:,j],l,g1,g2)\r\n",
        "  Acc = np.dot(J_ext_dot,q1_d[:,j]) + np.dot(J_ext,q1_dd[:,j])\r\n",
        "\r\n",
        "  \r\n",
        "  F_i = -np.dot(M_matrix,Acc)\r\n",
        "\r\n",
        "  Fse = Fee + F_i\r\n",
        "  torque[:,j] = -np.dot(J_ext.T,Fse)\r\n",
        "\r\n",
        "\r\n",
        "plt.plot(torque[0,:])\r\n",
        "plt.plot(torque[1,:])\r\n",
        "\r\n",
        "plt.show"
      ],
      "execution_count": null,
      "outputs": []
    }
  ]
}